{
  "cells": [
    {
      "cell_type": "code",
      "execution_count": null,
      "metadata": {
        "colab": {
          "base_uri": "https://localhost:8080/",
          "height": 613
        },
        "id": "d35OnNzNo_lE",
        "outputId": "672b45c6-7683-45a8-d4be-9cacdc91c2d0"
      },
      "outputs": [],
      "source": [
        "#Устанавливаем пакет roboflow\n",
        "!pip install roboflow\n",
        "\n",
        "#Импортируем необходимые модули\n",
        "from roboflow import Roboflow\n",
        "import os\n",
        "from google.colab import files\n",
        "import json"
      ]
    },
    {
      "cell_type": "code",
      "execution_count": null,
      "metadata": {},
      "outputs": [],
      "source": [
        "# Загружаем изображение в Colab\n",
        "uploaded = files.upload()\n",
        "\n",
        "# Создаем цикл для обработки загруженных файлов\n",
        "for i in range(len(list(uploaded.keys()))):\n",
        "  # Получаем имя загруженного файла\n",
        "  image_filename = list(uploaded.keys())[i]\n",
        "\n",
        "  # Выведим путь к файлу изображения\n",
        "  print(f\"Путь к загруженному изображению: {image_filename}\\n\")\n",
        "\n",
        "  # Инициализация объекта Roboflow с использованием переменной среды\n",
        "  api_key = \"k09h6cHSUgVnJxRM3bY0\"\n",
        "  rf = Roboflow(api_key=api_key)\n",
        "\n",
        "  # Выбор проекта mask-alarm из рабочей области Roboflow\n",
        "  project = rf.workspace().project(\"mask-alarm\")\n",
        "\n",
        "  # Выбор модели\n",
        "  model = project.version(1).model\n",
        "\n",
        "  # Получаем абсолютный путь к файлу изображения\n",
        "  absolute_path = os.path.abspath(image_filename)\n",
        "\n",
        "  # Используем выбранную модель для предсказания на локально загруженном изображении с указанными параметрами уверенности и перекрытия\n",
        "  predictions = model.predict(absolute_path, confidence=40, overlap=30)\n",
        "\n",
        "  # Сохраняем изображение с прогнозом\n",
        "  model.predict(image_filename, confidence=40, overlap=30).save(f'{image_filename} predicition.jpg')\n",
        "\n",
        "  # Выводим предсказания в JSON и текстовом формате\n",
        "  print(predictions.json())\n",
        "\n",
        "  if predictions[0]['class'] == 'Nomask':\n",
        "    print('На изображении человек без маски \\n')\n",
        "  else:\n",
        "    print(f'На изображении человек в маске типа {predictions[0][\"class\"]} \\n')"
      ]
    }
  ],
  "metadata": {
    "colab": {
      "provenance": []
    },
    "kernelspec": {
      "display_name": "Python 3",
      "name": "python3"
    },
    "language_info": {
      "name": "python",
      "version": "3.11.1"
    }
  },
  "nbformat": 4,
  "nbformat_minor": 0
}
